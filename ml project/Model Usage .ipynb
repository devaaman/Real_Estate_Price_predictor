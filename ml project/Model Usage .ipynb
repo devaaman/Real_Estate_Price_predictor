{
 "cells": [
  {
   "cell_type": "markdown",
   "id": "c8cbb65e",
   "metadata": {},
   "source": [
    "## Model Testing"
   ]
  },
  {
   "cell_type": "code",
   "execution_count": 1,
   "id": "62617956",
   "metadata": {},
   "outputs": [],
   "source": [
    "from joblib import dump, load\n",
    "model=load(\"RealEstate.joblib\")"
   ]
  },
  {
   "cell_type": "code",
   "execution_count": 5,
   "id": "5bfe05c7",
   "metadata": {},
   "outputs": [
    {
     "data": {
      "text/plain": [
       "array([19.995])"
      ]
     },
     "execution_count": 5,
     "metadata": {},
     "output_type": "execute_result"
    }
   ],
   "source": [
    "import numpy as np\n",
    "features=np.array([[-0.54230647,  7.18716752, -1.12669699, -0.27288841, -1.42019852,\n",
    "       -0.74385314, -1.7372291 ,  2.56306103, -0.99293673, -0.57167103,\n",
    "       -0.99480936,  0.4386066 , -0.49636234]])\n",
    "model.predict(features)"
   ]
  },
  {
   "cell_type": "code",
   "execution_count": null,
   "id": "f998f708",
   "metadata": {},
   "outputs": [],
   "source": []
  },
  {
   "cell_type": "code",
   "execution_count": null,
   "id": "1c889d7b",
   "metadata": {},
   "outputs": [],
   "source": []
  }
 ],
 "metadata": {
  "kernelspec": {
   "display_name": "Python 3 (ipykernel)",
   "language": "python",
   "name": "python3"
  },
  "language_info": {
   "codemirror_mode": {
    "name": "ipython",
    "version": 3
   },
   "file_extension": ".py",
   "mimetype": "text/x-python",
   "name": "python",
   "nbconvert_exporter": "python",
   "pygments_lexer": "ipython3",
   "version": "3.10.0"
  }
 },
 "nbformat": 4,
 "nbformat_minor": 5
}
